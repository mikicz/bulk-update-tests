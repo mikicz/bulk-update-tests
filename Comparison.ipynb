{
 "cells": [
  {
   "cell_type": "code",
   "execution_count": null,
   "metadata": {},
   "outputs": [],
   "source": [
    "from apps.experiments.models import Experiment\n",
    "\n",
    "import pandas as pd\n",
    "from matplotlib import pyplot as plt"
   ]
  },
  {
   "cell_type": "code",
   "execution_count": null,
   "metadata": {},
   "outputs": [],
   "source": [
    "experiment_jsons = []\n",
    "\n",
    "for experiment in Experiment.objects.filter(fields=1):\n",
    "    experiment_jsons.append({\n",
    "        \"method\": experiment.method,\n",
    "        \"field\": experiment.field_types,\n",
    "        \"count\": experiment.count,\n",
    "        \"time\": experiment.time,\n",
    "    })\n"
   ]
  },
  {
   "cell_type": "code",
   "execution_count": null,
   "metadata": {},
   "outputs": [],
   "source": [
    "df = pd.DataFrame(experiment_jsons)\n",
    "df.sort_values([\"method\", \"field\", \"count\"], inplace=True)"
   ]
  },
  {
   "cell_type": "code",
   "execution_count": null,
   "metadata": {},
   "outputs": [],
   "source": [
    "df"
   ]
  },
  {
   "cell_type": "code",
   "execution_count": null,
   "metadata": {},
   "outputs": [],
   "source": [
    "field_average = {}\n",
    "\n",
    "for field in df[\"field\"].unique():\n",
    "    field_average[field] = {}\n",
    "    for method in [0, 1]:\n",
    "        df2 = df[df.method == method]\n",
    "        df2 = df2[df2.field == field]\n",
    "        df2 = df2[[\"count\", \"time\"]]\n",
    "        \n",
    "        field_average[field][method] = average = df2.groupby('count').mean()\n"
   ]
  },
  {
   "cell_type": "code",
   "execution_count": null,
   "metadata": {},
   "outputs": [],
   "source": [
    "fig, axes = plt.subplots(3, 2, figsize=(6, 10))\n",
    "\n",
    "order = [(0, 0), (0, 1), (1, 0), (1, 1), (2, 0)]\n",
    "\n",
    "fig.delaxes(axes[2, 1])\n",
    "fig.subplots_adjust(hspace=0.5, wspace=0.5)\n",
    "\n",
    "for i, field in enumerate(df[\"field\"].unique()):\n",
    "    ax = axes[order[i]]\n",
    "    \n",
    "    ax.set_title(field)\n",
    "    ax.set_xlabel(\"objects\")\n",
    "    ax.set_ylabel(\"seconds\")\n",
    "    ax.set_xlim(right=80000)\n",
    "    ax.plot(field_average[field][Experiment.INBUILT].index, field_average[field][Experiment.INBUILT][\"time\"], label=\"inbuilt\")\n",
    "    ax.plot(field_average[field][Experiment.PACKAGE].index, field_average[field][Experiment.PACKAGE][\"time\"], label=\"package\")\n",
    "    ax.legend()\n",
    "\n",
    "fig.savefig(\"single_field_comparison.pdf\", tight_layout=True)\n",
    "fig.show()"
   ]
  }
 ],
 "metadata": {
  "kernelspec": {
   "display_name": "Django Shell-Plus",
   "language": "python",
   "name": "django_extensions"
  },
  "language_info": {
   "codemirror_mode": {
    "name": "ipython",
    "version": 3
   },
   "file_extension": ".py",
   "mimetype": "text/x-python",
   "name": "python",
   "nbconvert_exporter": "python",
   "pygments_lexer": "ipython3",
   "version": "3.7.6"
  }
 },
 "nbformat": 4,
 "nbformat_minor": 4
}
